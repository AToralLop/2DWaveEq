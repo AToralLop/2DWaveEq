{
 "cells": [
  {
   "cell_type": "code",
   "execution_count": 11,
   "metadata": {
    "collapsed": false
   },
   "outputs": [
    {
     "name": "stdout",
     "output_type": "stream",
     "text": [
      "Populating the interactive namespace from numpy and matplotlib\n",
      "The pyopencl.ipython_ext extension is already loaded. To reload it, use:\n",
      "  %reload_ext pyopencl.ipython_ext\n"
     ]
    }
   ],
   "source": [
    "#Lets have matplotlib \"inline\"\n",
    "%pylab inline\n",
    "\n",
    "#Lets have opencl ipython integration enabled\n",
    "%load_ext pyopencl.ipython_ext\n",
    "\n",
    "#Import packages we need\n",
    "import numpy as np\n",
    "import pyopencl as cl\n",
    "from mpl_toolkits.mplot3d import Axes3D\n",
    "\n",
    "#Make sure we get compiler output from OpenCL\n",
    "import os\n",
    "os.environ[\"PYOPENCL_COMPILER_OUTPUT\"] = \"1\""
   ]
  },
  {
   "cell_type": "code",
   "execution_count": 2,
   "metadata": {
    "collapsed": true
   },
   "outputs": [],
   "source": [
    "#Create OpenCL context\n",
    "cl_ctx = cl.create_some_context()\n",
    "\n",
    "#Create an OpenCL command queue\n",
    "cl_queue = cl.CommandQueue(cl_ctx)"
   ]
  },
  {
   "cell_type": "code",
   "execution_count": 3,
   "metadata": {
    "collapsed": false,
    "scrolled": true
   },
   "outputs": [
    {
     "name": "stderr",
     "output_type": "stream",
     "text": [
      "/usr/local/lib/python2.7/dist-packages/pyopencl-2015.1-py2.7-linux-x86_64.egg/pyopencl/__init__.py:59: CompilerWarning: Built kernel retrieved from cache. Original from-source build had warnings:\n",
      "Build on <pyopencl.Device 'Intel(R) Core(TM) i7-4712MQ CPU @ 2.30GHz' on 'Intel(R) OpenCL' at 0x3704068> succeeded, but said:\n",
      "\n",
      "Compilation started\n",
      "Compilation done\n",
      "Linking started\n",
      "Linking done\n",
      "Device build started\n",
      "Device build done\n",
      "Kernel <wave_eq_2D> was successfully vectorized (4)\n",
      "Kernel <wave_eq_bc> was successfully vectorized (4)\n",
      "Done.\n",
      "  warn(text, CompilerWarning)\n",
      "/usr/local/lib/python2.7/dist-packages/pyopencl-2015.1-py2.7-linux-x86_64.egg/pyopencl/__init__.py:59: CompilerWarning: From-binary build succeeded, but resulted in non-empty logs:\n",
      "Build on <pyopencl.Device 'Intel(R) Core(TM) i7-4712MQ CPU @ 2.30GHz' on 'Intel(R) OpenCL' at 0x3704068> succeeded, but said:\n",
      "\n",
      "Device build started\n",
      "Device build done\n",
      "Reload Program Binary Object.\n",
      "  warn(text, CompilerWarning)\n"
     ]
    }
   ],
   "source": [
    "%%cl_kernel \n",
    "__kernel void wave_eq_2D(__global float *u2, __global const float *u1, __global const float *u0, float kappa, float dt, float dx, float dy) {\n",
    "    int nx = get_global_size(0);\n",
    "    int ny = get_global_size(1);\n",
    "    \n",
    "    int i = get_global_id(0);\n",
    "    int j = get_global_id(1);\n",
    "    \n",
    "    int centerIndx = j*nx + i;\n",
    "    int centerLft = j*nx + (i - 1);\n",
    "    int centerRght = j*nx + (i + 1);\n",
    "    int centerUp = (j - 1)*nx + i;\n",
    "    int centerDwn = (j + 1)*nx + i;\n",
    "    \n",
    "    if((0 < i && i < nx-1) && (0 < j && j < ny-1)){\n",
    "        u2[centerIndx] = 2*u1[centerIndx] - u0[centerIndx] + kappa*dt*dt/(dx*dx) * (u1[centerLft] - 2*u1[centerIndx] + u1[centerRght]) +\n",
    "                                          kappa*dt*dt/(dy*dy) * (u1[centerUp] - 2*u1[centerIndx] + u1[centerDwn]);\n",
    "    }else{\n",
    "        u2[centerIndx] = u1[centerIndx];\n",
    "    }\n",
    "}\n",
    "\n",
    "__kernel void wave_eq_bc(__global float *u) {\n",
    "    int nx = get_global_size(0);\n",
    "    int ny = get_global_size(1);\n",
    "    \n",
    "    int i = get_global_id(0);\n",
    "    int j = get_global_id(1);\n",
    "    \n",
    "    int centerIndx = j*nx + i;\n",
    "    int centerLft = j*nx + i - 1;\n",
    "    int centerRght = j*nx + i + 1;\n",
    "    int centerUp = (j - 1)*nx + i;\n",
    "    int centerDwn = (j + 1)*nx + i;\n",
    "    \n",
    "    if(i == 0){\n",
    "        u[centerIndx] = u[centerRght];\n",
    "    }else if(i == nx-1){\n",
    "        u[centerIndx] = u[centerLft];\n",
    "    }else if(j == 0){\n",
    "        u[centerIndx] = u[centerDwn];\n",
    "    }else if(j == ny-1){\n",
    "        u[centerIndx] = u[centerUp];\n",
    "    }\n",
    "}"
   ]
  },
  {
   "cell_type": "code",
   "execution_count": null,
   "metadata": {
    "collapsed": false
   },
   "outputs": [],
   "source": []
  },
  {
   "cell_type": "code",
   "execution_count": 4,
   "metadata": {
    "collapsed": true
   },
   "outputs": [],
   "source": [
    "\"\"\"\n",
    "Class that holds data for the heat equation in OpenCL\n",
    "\"\"\"\n",
    "class HeatDataCL_2D:\n",
    "    \"\"\"\n",
    "    Uploads initial data to the CL device\n",
    "    \"\"\"\n",
    "    def __init__(self, u0):\n",
    "        #Make sure that the data is single precision floating point\n",
    "        assert(np.issubdtype(u0.dtype, np.float32))\n",
    "        \n",
    "        #Find number of cells\n",
    "        self.nx = u0.shape[0]\n",
    "        self.ny = u0.shape[1];\n",
    "        \n",
    "        mf = cl.mem_flags \n",
    "        \n",
    "        #Upload data to the device\n",
    "        self.u0 = cl.Buffer(cl_ctx, mf.READ_WRITE | mf.COPY_HOST_PTR, hostbuf=u0)\n",
    "        self.u1 = cl.Buffer(cl_ctx, mf.READ_WRITE | mf.COPY_HOST_PTR, hostbuf=u0)\n",
    "        \n",
    "        #Allocate output buffers\n",
    "        self.u2 = cl.Buffer(cl_ctx, mf.READ_WRITE, u0.nbytes)\n",
    "        \n",
    "    \"\"\"\n",
    "    Enables downloading data from CL device to Python\n",
    "    \"\"\"\n",
    "    def download(self):\n",
    "        #Allocate data on the host for result\n",
    "        u0 = np.empty((self.nx, self.ny), dtype=np.float32)\n",
    "        \n",
    "        #Copy data from device to host\n",
    "        cl.enqueue_copy(cl_queue, u0, self.u0)\n",
    "        \n",
    "        #Return\n",
    "        return u0\n",
    "\n",
    "def opencl_wave_eq_2D(cl_data, kappa, dx, dy, nt):\n",
    "    # Timestep\n",
    "    dt = 0.4*min(dx*dx/(2.0*kappa),dy*dy/(2.0*kappa));\n",
    "    \n",
    "    # Iterative calculation\n",
    "    for i in range(nt):\n",
    "        wave_eq_2D(cl_queue,(cl_data.nx,cl_data.ny), None, cl_data.u2, cl_data.u1, cl_data.u0, numpy.float32(kappa), numpy.float32(dt), numpy.float32(dx), numpy.float32(dy));\n",
    "        wave_eq_bc(cl_queue,(cl_data.nx,cl_data.ny), None, cl_data.u2);\n",
    "        cl_data.u0,cl_data.u1,cl_data.u2 = cl_data.u1,cl_data.u2,cl_data.u0;"
   ]
  },
  {
   "cell_type": "code",
   "execution_count": 8,
   "metadata": {
    "collapsed": false
   },
   "outputs": [
    {
     "data": {
      "image/png": "[encoded data removed]",
      "text/plain": [
       "<matplotlib.figure.Figure at 0x7f4adc3c84d0>"
      ]
     },
     "metadata": {},
     "output_type": "display_data"
    }
   ],
   "source": [
    "#Create test input data\n",
    "nx = 100;\n",
    "ny = nx;\n",
    "initialCond = 0.5;\n",
    "u0 = np.zeros((nx,ny),dtype=np.float32);\n",
    "xo_val = np.arange(-pi/2.0,pi/2.0,pi/20.0, dtype=np.float32);\n",
    "yo_val = np.arange(-pi/2.0,pi/2.0,pi/20.0, dtype=np.float32);\n",
    "xo_val,yo_val = np.meshgrid(xo_val,yo_val);\n",
    "u0[nx/2-10:nx/2+10,ny/2-10:ny/2+10] = 1.5*np.cos(xo_val)*np.cos(yo_val);\n",
    "\n",
    "#u0[0,:] = initialCond;\n",
    "#u0[nx-1,:] = initialCond;\n",
    "#u0[:,0] = initialCond;\n",
    "#u0[:,ny-1] = initialCond;\n",
    "\n",
    "cl_data = HeatDataCL_2D(u0)\n",
    "kappa = 1.0\n",
    "dx = 1.0\n",
    "dy = 1.0\n",
    "Xaxis = numpy.arange(0,nx,dx);\n",
    "Yaxis = numpy.arange(0,ny,dy);\n",
    "Xaxis, Yaxis = numpy.meshgrid(Xaxis,Yaxis);\n",
    "\n",
    "#Plot initial conditions\n",
    "fig = figure()\n",
    "ax = fig.gca(projection='3d')\n",
    "#ax.plot_surface(Xaxis, Yaxis, u0);\n",
    "\n",
    "for i in range(1, 10):\n",
    "    timesteps_per_plot=10\n",
    "    #Simulate 10 timesteps\n",
    "    opencl_wave_eq_2D(cl_data, kappa, dx, dy, timesteps_per_plot)\n",
    "\n",
    "    #Download data\n",
    "    u2 = cl_data.download()\n",
    "    \n",
    "    #Plot\n",
    "    ax.plot_surface(Xaxis, Yaxis, u2);"
   ]
  },
  {
   "cell_type": "code",
   "execution_count": 9,
   "metadata": {
    "collapsed": false
   },
   "outputs": [
    {
     "ename": "RuntimeError",
     "evalue": "This class cannot be instantiated from Python",
     "output_type": "error",
     "traceback": [
      "\u001b[1;31m---------------------------------------------------------------------------\u001b[0m",
      "\u001b[1;31mRuntimeError\u001b[0m                              Traceback (most recent call last)",
      "\u001b[1;32m<ipython-input-9-8ee8204b4329>\u001b[0m in \u001b[0;36m<module>\u001b[1;34m()\u001b[0m\n\u001b[1;32m----> 1\u001b[1;33m \u001b[0mcl\u001b[0m\u001b[1;33m.\u001b[0m\u001b[0mplatform_info\u001b[0m\u001b[1;33m(\u001b[0m\u001b[1;33m)\u001b[0m\u001b[1;33m\u001b[0m\u001b[0m\n\u001b[0m",
      "\u001b[1;31mRuntimeError\u001b[0m: This class cannot be instantiated from Python"
     ]
    }
   ],
   "source": [
    "cl.platform_info()"
   ]
  },
  {
   "cell_type": "code",
   "execution_count": 12,
   "metadata": {
    "collapsed": false
   },
   "outputs": [
    {
     "ename": "AttributeError",
     "evalue": "'module' object has no attribute 'get_platform'",
     "output_type": "error",
     "traceback": [
      "\u001b[1;31m---------------------------------------------------------------------------\u001b[0m",
      "\u001b[1;31mAttributeError\u001b[0m                            Traceback (most recent call last)",
      "\u001b[1;32m<ipython-input-12-a432cae08503>\u001b[0m in \u001b[0;36m<module>\u001b[1;34m()\u001b[0m\n\u001b[1;32m----> 1\u001b[1;33m \u001b[0mcl\u001b[0m\u001b[1;33m.\u001b[0m\u001b[0mget_platform\u001b[0m\u001b[1;33m(\u001b[0m\u001b[1;33m)\u001b[0m\u001b[1;33m\u001b[0m\u001b[0m\n\u001b[0m",
      "\u001b[1;31mAttributeError\u001b[0m: 'module' object has no attribute 'get_platform'"
     ]
    }
   ],
   "source": [
    "cl.get_platform()"
   ]
  },
  {
   "cell_type": "code",
   "execution_count": 21,
   "metadata": {
    "collapsed": false
   },
   "outputs": [],
   "source": [
    "availPlatforms = cl.get_platforms()[0]"
   ]
  },
  {
   "cell_type": "code",
   "execution_count": 19,
   "metadata": {
    "collapsed": false
   },
   "outputs": [
    {
     "data": {
      "text/plain": [
       "[<pyopencl.Device 'Intel(R) Core(TM) i7-4712MQ CPU @ 2.30GHz' on 'Intel(R) OpenCL' at 0x3704068>]"
      ]
     },
     "execution_count": 19,
     "metadata": {},
     "output_type": "execute_result"
    }
   ],
   "source": [
    "availPlatforms.get_devices()"
   ]
  },
  {
   "cell_type": "code",
   "execution_count": null,
   "metadata": {
    "collapsed": true
   },
   "outputs": [],
   "source": []
  }
 ],
 "metadata": {
  "kernelspec": {
   "display_name": "Python 2",
   "language": "python",
   "name": "python2"
  },
  "language_info": {
   "codemirror_mode": {
    "name": "ipython",
    "version": 2
   },
   "file_extension": ".py",
   "mimetype": "text/x-python",
   "name": "python",
   "nbconvert_exporter": "python",
   "pygments_lexer": "ipython2",
   "version": "2.7.6"
  }
 },
 "nbformat": 4,
 "nbformat_minor": 0
}
